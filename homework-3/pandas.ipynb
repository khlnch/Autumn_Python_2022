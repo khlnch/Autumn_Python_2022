{
 "cells": [
  {
   "cell_type": "markdown",
   "metadata": {},
   "source": [
    "Чулуунбаатар Хулан НПМбд-01-19"
   ]
  },
  {
   "cell_type": "markdown",
   "metadata": {},
   "source": [
    "   # Табличные данные и PANDAS\n",
    "\n",
    "   Pandas — удобная библиотека для работы с табличными данными в Python, если данных не слишком много и они помещаются в оперативную память вашего компьютера. Несмотря на неэффективность реализации и некоторые проблемы, библиотека стала стандартом в анализе данных. С этой библиотекой мы сейчас и познакомимся.\n",
    "\n",
    "   Основной объект в pandas это DataFrame, представляющий собой таблицу с именованными колонками различных типов, индексом (может быть многоуровневым).DataFrame можно создавать, считывая таблицу из файла или задавая вручную из других объектов.\n",
    "\n",
    "   В этой части потребуется выполнить несколько небольших заданий. Можно пойти двумя путями: сначала изучить материалы, а потом приступить к заданиям, или же разбираться \"по ходу\". Выбирайте сами.\n",
    "    \n",
    "   Материалы:\n",
    "\n",
    "   1. [Pandas за 10 минут из официального руководства](https://pandas.pydata.org/pandas-docs/stable/user_guide/10min.html)\n",
    "   2. [Документация](https://pandas.pydata.org/pandas-docs/stable/index.html) (стоит обращаться, если не понятно, как вызывать конкретный метод)\n",
    "   3. [Примеры использования функционала](https://nbviewer.org/github/justmarkham/pandas-videos/blob/master/pandas.ipynb)\n",
    "\n",
    "   Многие из заданий можно выполнить несколькими способами. Не существуют единственно верного, но попробуйте максимально задействовать арсенал pandas и ориентируйтесь на простоту и понятность вашего кода. Мы не будем подсказывать, что нужно использовать для решения конкретной задачи, попробуйте находить необходимый функционал сами (название метода чаще всего очевидно). В помощь вам документация, поиск и stackoverflow."
   ]
  },
  {
   "cell_type": "code",
   "execution_count": 301,
   "metadata": {},
   "outputs": [
    {
     "name": "stdout",
     "output_type": "stream",
     "text": [
      "Populating the interactive namespace from numpy and matplotlib\n"
     ]
    }
   ],
   "source": [
    "%pylab inline  \n",
    "# import almost all we need\n",
    "import pandas as pd"
   ]
  },
  {
   "cell_type": "markdown",
   "metadata": {},
   "source": [
    "данные можно скачать [отсюда](https://www.dropbox.com/s/5qq94wzmbw4e54r/data.csv?dl=0)"
   ]
  },
  {
   "cell_type": "markdown",
   "metadata": {},
   "source": [
    "#### 1. [0.5 баллов] Откройте файл с таблицей (не забудьте про её формат). Выведите последние 10 строк. Посмотрите на данные и скажите, что они из себя представляют, сколько в таблице строк, какие столбцы?"
   ]
  },
  {
   "cell_type": "code",
   "execution_count": 302,
   "metadata": {},
   "outputs": [
    {
     "data": {
      "text/html": [
       "<div>\n",
       "<style scoped>\n",
       "    .dataframe tbody tr th:only-of-type {\n",
       "        vertical-align: middle;\n",
       "    }\n",
       "\n",
       "    .dataframe tbody tr th {\n",
       "        vertical-align: top;\n",
       "    }\n",
       "\n",
       "    .dataframe thead th {\n",
       "        text-align: right;\n",
       "    }\n",
       "</style>\n",
       "<table border=\"1\" class=\"dataframe\">\n",
       "  <thead>\n",
       "    <tr style=\"text-align: right;\">\n",
       "      <th></th>\n",
       "      <th>order_id</th>\n",
       "      <th>quantity</th>\n",
       "      <th>item_name</th>\n",
       "      <th>choice_description</th>\n",
       "      <th>item_price</th>\n",
       "    </tr>\n",
       "  </thead>\n",
       "  <tbody>\n",
       "    <tr>\n",
       "      <th>4612</th>\n",
       "      <td>1831</td>\n",
       "      <td>1</td>\n",
       "      <td>Carnitas Bowl</td>\n",
       "      <td>[Fresh Tomato Salsa, [Fajita Vegetables, Rice,...</td>\n",
       "      <td>$9.25</td>\n",
       "    </tr>\n",
       "    <tr>\n",
       "      <th>4613</th>\n",
       "      <td>1831</td>\n",
       "      <td>1</td>\n",
       "      <td>Chips</td>\n",
       "      <td>NaN</td>\n",
       "      <td>$2.15</td>\n",
       "    </tr>\n",
       "    <tr>\n",
       "      <th>4614</th>\n",
       "      <td>1831</td>\n",
       "      <td>1</td>\n",
       "      <td>Bottled Water</td>\n",
       "      <td>NaN</td>\n",
       "      <td>$1.50</td>\n",
       "    </tr>\n",
       "    <tr>\n",
       "      <th>4615</th>\n",
       "      <td>1832</td>\n",
       "      <td>1</td>\n",
       "      <td>Chicken Soft Tacos</td>\n",
       "      <td>[Fresh Tomato Salsa, [Rice, Cheese, Sour Cream]]</td>\n",
       "      <td>$8.75</td>\n",
       "    </tr>\n",
       "    <tr>\n",
       "      <th>4616</th>\n",
       "      <td>1832</td>\n",
       "      <td>1</td>\n",
       "      <td>Chips and Guacamole</td>\n",
       "      <td>NaN</td>\n",
       "      <td>$4.45</td>\n",
       "    </tr>\n",
       "    <tr>\n",
       "      <th>4617</th>\n",
       "      <td>1833</td>\n",
       "      <td>1</td>\n",
       "      <td>Steak Burrito</td>\n",
       "      <td>[Fresh Tomato Salsa, [Rice, Black Beans, Sour ...</td>\n",
       "      <td>$11.75</td>\n",
       "    </tr>\n",
       "    <tr>\n",
       "      <th>4618</th>\n",
       "      <td>1833</td>\n",
       "      <td>1</td>\n",
       "      <td>Steak Burrito</td>\n",
       "      <td>[Fresh Tomato Salsa, [Rice, Sour Cream, Cheese...</td>\n",
       "      <td>$11.75</td>\n",
       "    </tr>\n",
       "    <tr>\n",
       "      <th>4619</th>\n",
       "      <td>1834</td>\n",
       "      <td>1</td>\n",
       "      <td>Chicken Salad Bowl</td>\n",
       "      <td>[Fresh Tomato Salsa, [Fajita Vegetables, Pinto...</td>\n",
       "      <td>$11.25</td>\n",
       "    </tr>\n",
       "    <tr>\n",
       "      <th>4620</th>\n",
       "      <td>1834</td>\n",
       "      <td>1</td>\n",
       "      <td>Chicken Salad Bowl</td>\n",
       "      <td>[Fresh Tomato Salsa, [Fajita Vegetables, Lettu...</td>\n",
       "      <td>$8.75</td>\n",
       "    </tr>\n",
       "    <tr>\n",
       "      <th>4621</th>\n",
       "      <td>1834</td>\n",
       "      <td>1</td>\n",
       "      <td>Chicken Salad Bowl</td>\n",
       "      <td>[Fresh Tomato Salsa, [Fajita Vegetables, Pinto...</td>\n",
       "      <td>$8.75</td>\n",
       "    </tr>\n",
       "  </tbody>\n",
       "</table>\n",
       "</div>"
      ],
      "text/plain": [
       "      order_id  quantity            item_name  \\\n",
       "4612      1831         1        Carnitas Bowl   \n",
       "4613      1831         1                Chips   \n",
       "4614      1831         1        Bottled Water   \n",
       "4615      1832         1   Chicken Soft Tacos   \n",
       "4616      1832         1  Chips and Guacamole   \n",
       "4617      1833         1        Steak Burrito   \n",
       "4618      1833         1        Steak Burrito   \n",
       "4619      1834         1   Chicken Salad Bowl   \n",
       "4620      1834         1   Chicken Salad Bowl   \n",
       "4621      1834         1   Chicken Salad Bowl   \n",
       "\n",
       "                                     choice_description item_price  \n",
       "4612  [Fresh Tomato Salsa, [Fajita Vegetables, Rice,...     $9.25   \n",
       "4613                                                NaN     $2.15   \n",
       "4614                                                NaN     $1.50   \n",
       "4615   [Fresh Tomato Salsa, [Rice, Cheese, Sour Cream]]     $8.75   \n",
       "4616                                                NaN     $4.45   \n",
       "4617  [Fresh Tomato Salsa, [Rice, Black Beans, Sour ...    $11.75   \n",
       "4618  [Fresh Tomato Salsa, [Rice, Sour Cream, Cheese...    $11.75   \n",
       "4619  [Fresh Tomato Salsa, [Fajita Vegetables, Pinto...    $11.25   \n",
       "4620  [Fresh Tomato Salsa, [Fajita Vegetables, Lettu...     $8.75   \n",
       "4621  [Fresh Tomato Salsa, [Fajita Vegetables, Pinto...     $8.75   "
      ]
     },
     "execution_count": 302,
     "metadata": {},
     "output_type": "execute_result"
    }
   ],
   "source": [
    "df = pd.read_csv('C:/Users/chuka/Downloads/data.csv')\n",
    "df.tail(10)"
   ]
  },
  {
   "cell_type": "code",
   "execution_count": 303,
   "metadata": {},
   "outputs": [
    {
     "name": "stdout",
     "output_type": "stream",
     "text": [
      "количество строк: 4622\n",
      "количество столбцов: 5:\n",
      "order_id, quantity, item_name, choice_description, item_price\n"
     ]
    }
   ],
   "source": [
    "print(f'количество строк: {len(df)}')\n",
    "print(f'количество столбцов: {len(df.columns)}:')\n",
    "print(', '.join(df.columns))"
   ]
  },
  {
   "cell_type": "markdown",
   "metadata": {},
   "source": [
    "####   2. [0.25 баллов] Ответьте на вопросы: Сколько заказов попало в выборку? Сколько уникальных категорий товара было куплено? (item_name)"
   ]
  },
  {
   "cell_type": "code",
   "execution_count": 304,
   "metadata": {},
   "outputs": [
    {
     "name": "stdout",
     "output_type": "stream",
     "text": [
      "заказов попало в выборке: 1834\n",
      "уникальных категорий товаров было куплено: 50\n"
     ]
    }
   ],
   "source": [
    "print(f\"заказов попало в выборке: {df['order_id'].nunique()}\")\n",
    "print(f\"уникальных категорий товаров было куплено: {df['item_name'].nunique()}\")"
   ]
  },
  {
   "cell_type": "markdown",
   "metadata": {},
   "source": [
    "####    3. [0.25 баллов] Есть ли в данных пропуски? В каких колонках?"
   ]
  },
  {
   "cell_type": "code",
   "execution_count": 305,
   "metadata": {},
   "outputs": [
    {
     "data": {
      "text/plain": [
       "order_id                 0\n",
       "quantity                 0\n",
       "item_name                0\n",
       "choice_description    1246\n",
       "item_price               0\n",
       "dtype: int64"
      ]
     },
     "execution_count": 305,
     "metadata": {},
     "output_type": "execute_result"
    }
   ],
   "source": [
    "df.isnull().sum()"
   ]
  },
  {
   "cell_type": "markdown",
   "metadata": {},
   "source": [
    "    Да, есть. в колонке \"choice_description\"\n",
    "    \n",
    "    Заполните пропуски пустой строкой для строковых колонок и нулём для числовых."
   ]
  },
  {
   "cell_type": "code",
   "execution_count": 306,
   "metadata": {},
   "outputs": [
    {
     "data": {
      "text/plain": [
       "order_id               int64\n",
       "quantity               int64\n",
       "item_name             object\n",
       "choice_description    object\n",
       "item_price            object\n",
       "dtype: object"
      ]
     },
     "execution_count": 306,
     "metadata": {},
     "output_type": "execute_result"
    }
   ],
   "source": [
    "df.dtypes"
   ]
  },
  {
   "cell_type": "code",
   "execution_count": 307,
   "metadata": {},
   "outputs": [
    {
     "data": {
      "text/plain": [
       "order_id              0\n",
       "quantity              0\n",
       "item_name             0\n",
       "choice_description    0\n",
       "item_price            0\n",
       "dtype: int64"
      ]
     },
     "execution_count": 307,
     "metadata": {},
     "output_type": "execute_result"
    }
   ],
   "source": [
    "for col in df.columns:\n",
    "    if df[col].dtype == 'int64':\n",
    "        df[col].fillna(0, inplace=True)\n",
    "    if df[col].dtype == object:\n",
    "        df[col].fillna('', inplace=True)\n",
    "\n",
    "df.isnull().sum()"
   ]
  },
  {
   "cell_type": "markdown",
   "metadata": {},
   "source": [
    "#### 4. [0.5 баллов] Посмотрите внимательнее на колонку с ценой товара. Какого она типа? Создайте новую колонку так, чтобы в ней цена была числом."
   ]
  },
  {
   "cell_type": "markdown",
   "metadata": {},
   "source": [
    "Для этого попробуйте применить функцию-преобразование к каждой строке вашей таблицы (для этого есть соответствующая функция)."
   ]
  },
  {
   "cell_type": "code",
   "execution_count": 308,
   "metadata": {},
   "outputs": [
    {
     "name": "stdout",
     "output_type": "stream",
     "text": [
      "Тип колонки c ценой: object\n"
     ]
    },
    {
     "data": {
      "text/html": [
       "<div>\n",
       "<style scoped>\n",
       "    .dataframe tbody tr th:only-of-type {\n",
       "        vertical-align: middle;\n",
       "    }\n",
       "\n",
       "    .dataframe tbody tr th {\n",
       "        vertical-align: top;\n",
       "    }\n",
       "\n",
       "    .dataframe thead th {\n",
       "        text-align: right;\n",
       "    }\n",
       "</style>\n",
       "<table border=\"1\" class=\"dataframe\">\n",
       "  <thead>\n",
       "    <tr style=\"text-align: right;\">\n",
       "      <th></th>\n",
       "      <th>order_id</th>\n",
       "      <th>quantity</th>\n",
       "      <th>item_name</th>\n",
       "      <th>choice_description</th>\n",
       "      <th>item_price</th>\n",
       "      <th>price_new_in_dollars</th>\n",
       "    </tr>\n",
       "  </thead>\n",
       "  <tbody>\n",
       "    <tr>\n",
       "      <th>0</th>\n",
       "      <td>1</td>\n",
       "      <td>1</td>\n",
       "      <td>Chips and Fresh Tomato Salsa</td>\n",
       "      <td></td>\n",
       "      <td>$2.39</td>\n",
       "      <td>2.39</td>\n",
       "    </tr>\n",
       "    <tr>\n",
       "      <th>1</th>\n",
       "      <td>1</td>\n",
       "      <td>1</td>\n",
       "      <td>Izze</td>\n",
       "      <td>[Clementine]</td>\n",
       "      <td>$3.39</td>\n",
       "      <td>3.39</td>\n",
       "    </tr>\n",
       "    <tr>\n",
       "      <th>2</th>\n",
       "      <td>1</td>\n",
       "      <td>1</td>\n",
       "      <td>Nantucket Nectar</td>\n",
       "      <td>[Apple]</td>\n",
       "      <td>$3.39</td>\n",
       "      <td>3.39</td>\n",
       "    </tr>\n",
       "    <tr>\n",
       "      <th>3</th>\n",
       "      <td>1</td>\n",
       "      <td>1</td>\n",
       "      <td>Chips and Tomatillo-Green Chili Salsa</td>\n",
       "      <td></td>\n",
       "      <td>$2.39</td>\n",
       "      <td>2.39</td>\n",
       "    </tr>\n",
       "    <tr>\n",
       "      <th>4</th>\n",
       "      <td>2</td>\n",
       "      <td>2</td>\n",
       "      <td>Chicken Bowl</td>\n",
       "      <td>[Tomatillo-Red Chili Salsa (Hot), [Black Beans...</td>\n",
       "      <td>$16.98</td>\n",
       "      <td>16.98</td>\n",
       "    </tr>\n",
       "    <tr>\n",
       "      <th>...</th>\n",
       "      <td>...</td>\n",
       "      <td>...</td>\n",
       "      <td>...</td>\n",
       "      <td>...</td>\n",
       "      <td>...</td>\n",
       "      <td>...</td>\n",
       "    </tr>\n",
       "    <tr>\n",
       "      <th>4617</th>\n",
       "      <td>1833</td>\n",
       "      <td>1</td>\n",
       "      <td>Steak Burrito</td>\n",
       "      <td>[Fresh Tomato Salsa, [Rice, Black Beans, Sour ...</td>\n",
       "      <td>$11.75</td>\n",
       "      <td>11.75</td>\n",
       "    </tr>\n",
       "    <tr>\n",
       "      <th>4618</th>\n",
       "      <td>1833</td>\n",
       "      <td>1</td>\n",
       "      <td>Steak Burrito</td>\n",
       "      <td>[Fresh Tomato Salsa, [Rice, Sour Cream, Cheese...</td>\n",
       "      <td>$11.75</td>\n",
       "      <td>11.75</td>\n",
       "    </tr>\n",
       "    <tr>\n",
       "      <th>4619</th>\n",
       "      <td>1834</td>\n",
       "      <td>1</td>\n",
       "      <td>Chicken Salad Bowl</td>\n",
       "      <td>[Fresh Tomato Salsa, [Fajita Vegetables, Pinto...</td>\n",
       "      <td>$11.25</td>\n",
       "      <td>11.25</td>\n",
       "    </tr>\n",
       "    <tr>\n",
       "      <th>4620</th>\n",
       "      <td>1834</td>\n",
       "      <td>1</td>\n",
       "      <td>Chicken Salad Bowl</td>\n",
       "      <td>[Fresh Tomato Salsa, [Fajita Vegetables, Lettu...</td>\n",
       "      <td>$8.75</td>\n",
       "      <td>8.75</td>\n",
       "    </tr>\n",
       "    <tr>\n",
       "      <th>4621</th>\n",
       "      <td>1834</td>\n",
       "      <td>1</td>\n",
       "      <td>Chicken Salad Bowl</td>\n",
       "      <td>[Fresh Tomato Salsa, [Fajita Vegetables, Pinto...</td>\n",
       "      <td>$8.75</td>\n",
       "      <td>8.75</td>\n",
       "    </tr>\n",
       "  </tbody>\n",
       "</table>\n",
       "<p>4622 rows × 6 columns</p>\n",
       "</div>"
      ],
      "text/plain": [
       "      order_id  quantity                              item_name  \\\n",
       "0            1         1           Chips and Fresh Tomato Salsa   \n",
       "1            1         1                                   Izze   \n",
       "2            1         1                       Nantucket Nectar   \n",
       "3            1         1  Chips and Tomatillo-Green Chili Salsa   \n",
       "4            2         2                           Chicken Bowl   \n",
       "...        ...       ...                                    ...   \n",
       "4617      1833         1                          Steak Burrito   \n",
       "4618      1833         1                          Steak Burrito   \n",
       "4619      1834         1                     Chicken Salad Bowl   \n",
       "4620      1834         1                     Chicken Salad Bowl   \n",
       "4621      1834         1                     Chicken Salad Bowl   \n",
       "\n",
       "                                     choice_description item_price  \\\n",
       "0                                                           $2.39    \n",
       "1                                          [Clementine]     $3.39    \n",
       "2                                               [Apple]     $3.39    \n",
       "3                                                           $2.39    \n",
       "4     [Tomatillo-Red Chili Salsa (Hot), [Black Beans...    $16.98    \n",
       "...                                                 ...        ...   \n",
       "4617  [Fresh Tomato Salsa, [Rice, Black Beans, Sour ...    $11.75    \n",
       "4618  [Fresh Tomato Salsa, [Rice, Sour Cream, Cheese...    $11.75    \n",
       "4619  [Fresh Tomato Salsa, [Fajita Vegetables, Pinto...    $11.25    \n",
       "4620  [Fresh Tomato Salsa, [Fajita Vegetables, Lettu...     $8.75    \n",
       "4621  [Fresh Tomato Salsa, [Fajita Vegetables, Pinto...     $8.75    \n",
       "\n",
       "      price_new_in_dollars  \n",
       "0                     2.39  \n",
       "1                     3.39  \n",
       "2                     3.39  \n",
       "3                     2.39  \n",
       "4                    16.98  \n",
       "...                    ...  \n",
       "4617                 11.75  \n",
       "4618                 11.75  \n",
       "4619                 11.25  \n",
       "4620                  8.75  \n",
       "4621                  8.75  \n",
       "\n",
       "[4622 rows x 6 columns]"
      ]
     },
     "execution_count": 308,
     "metadata": {},
     "output_type": "execute_result"
    }
   ],
   "source": [
    "print(\"Тип колонки c ценой:\", df[\"item_price\"].dtype)\n",
    "price_new = []\n",
    "for i in df[\"item_price\"]:\n",
    "    price_new.append(float(i[1:]))\n",
    "df[\"price_new_in_dollars\"] = price_new\n",
    "df"
   ]
  },
  {
   "cell_type": "markdown",
   "metadata": {},
   "source": [
    "Какая средняя/минимальная/максимальная цена у товара?"
   ]
  },
  {
   "cell_type": "code",
   "execution_count": 309,
   "metadata": {},
   "outputs": [
    {
     "name": "stdout",
     "output_type": "stream",
     "text": [
      "минимальная цена:\n"
     ]
    },
    {
     "data": {
      "text/plain": [
       "item_name\n",
       "6 Pack Soft Drink                        6.49\n",
       "Barbacoa Bowl                            8.69\n",
       "Barbacoa Burrito                         8.69\n",
       "Barbacoa Crispy Tacos                    8.99\n",
       "Barbacoa Salad Bowl                      9.39\n",
       "Barbacoa Soft Tacos                      8.99\n",
       "Bottled Water                            1.09\n",
       "Bowl                                     7.40\n",
       "Burrito                                  7.40\n",
       "Canned Soda                              1.09\n",
       "Canned Soft Drink                        1.25\n",
       "Carnitas Bowl                            8.99\n",
       "Carnitas Burrito                         8.69\n",
       "Carnitas Crispy Tacos                    8.99\n",
       "Carnitas Salad                           8.99\n",
       "Carnitas Salad Bowl                      9.39\n",
       "Carnitas Soft Tacos                      8.99\n",
       "Chicken Bowl                             8.19\n",
       "Chicken Burrito                          8.19\n",
       "Chicken Crispy Tacos                     8.49\n",
       "Chicken Salad                            8.19\n",
       "Chicken Salad Bowl                       8.75\n",
       "Chicken Soft Tacos                       8.49\n",
       "Chips                                    1.99\n",
       "Chips and Fresh Tomato Salsa             2.29\n",
       "Chips and Guacamole                      3.89\n",
       "Chips and Mild Fresh Tomato Salsa        3.00\n",
       "Chips and Roasted Chili Corn Salsa       2.95\n",
       "Chips and Roasted Chili-Corn Salsa       2.39\n",
       "Chips and Tomatillo Green Chili Salsa    2.95\n",
       "Chips and Tomatillo Red Chili Salsa      2.95\n",
       "Chips and Tomatillo-Green Chili Salsa    2.39\n",
       "Chips and Tomatillo-Red Chili Salsa      2.39\n",
       "Crispy Tacos                             7.40\n",
       "Izze                                     3.39\n",
       "Nantucket Nectar                         3.39\n",
       "Salad                                    7.40\n",
       "Side of Chips                            1.69\n",
       "Steak Bowl                               8.69\n",
       "Steak Burrito                            8.69\n",
       "Steak Crispy Tacos                       8.69\n",
       "Steak Salad                              8.69\n",
       "Steak Salad Bowl                         9.39\n",
       "Steak Soft Tacos                         8.99\n",
       "Veggie Bowl                              8.49\n",
       "Veggie Burrito                           8.49\n",
       "Veggie Crispy Tacos                      8.49\n",
       "Veggie Salad                             8.49\n",
       "Veggie Salad Bowl                        8.75\n",
       "Veggie Soft Tacos                        8.49\n",
       "Name: price_new_in_dollars, dtype: float64"
      ]
     },
     "execution_count": 309,
     "metadata": {},
     "output_type": "execute_result"
    }
   ],
   "source": [
    "print(\"минимальная цена:\")\n",
    "df.groupby('item_name')['price_new_in_dollars'].min()"
   ]
  },
  {
   "cell_type": "code",
   "execution_count": 310,
   "metadata": {},
   "outputs": [
    {
     "name": "stdout",
     "output_type": "stream",
     "text": [
      "максимальная цена:\n"
     ]
    },
    {
     "data": {
      "text/plain": [
       "item_name\n",
       "6 Pack Soft Drink                        12.98\n",
       "Barbacoa Bowl                            11.75\n",
       "Barbacoa Burrito                         11.75\n",
       "Barbacoa Crispy Tacos                    18.50\n",
       "Barbacoa Salad Bowl                      11.89\n",
       "Barbacoa Soft Tacos                      11.75\n",
       "Bottled Water                            15.00\n",
       "Bowl                                     22.20\n",
       "Burrito                                   7.40\n",
       "Canned Soda                               4.36\n",
       "Canned Soft Drink                         5.00\n",
       "Carnitas Bowl                            35.25\n",
       "Carnitas Burrito                         18.50\n",
       "Carnitas Crispy Tacos                    17.98\n",
       "Carnitas Salad                            8.99\n",
       "Carnitas Salad Bowl                      11.89\n",
       "Carnitas Soft Tacos                      11.75\n",
       "Chicken Bowl                             32.94\n",
       "Chicken Burrito                          35.00\n",
       "Chicken Crispy Tacos                     17.50\n",
       "Chicken Salad                            10.98\n",
       "Chicken Salad Bowl                       22.50\n",
       "Chicken Soft Tacos                       21.96\n",
       "Chips                                     6.45\n",
       "Chips and Fresh Tomato Salsa             44.25\n",
       "Chips and Guacamole                      17.80\n",
       "Chips and Mild Fresh Tomato Salsa         3.00\n",
       "Chips and Roasted Chili Corn Salsa        5.90\n",
       "Chips and Roasted Chili-Corn Salsa        2.39\n",
       "Chips and Tomatillo Green Chili Salsa     5.90\n",
       "Chips and Tomatillo Red Chili Salsa       5.90\n",
       "Chips and Tomatillo-Green Chili Salsa     4.78\n",
       "Chips and Tomatillo-Red Chili Salsa       7.17\n",
       "Crispy Tacos                              7.40\n",
       "Izze                                      3.39\n",
       "Nantucket Nectar                          6.78\n",
       "Salad                                     7.40\n",
       "Side of Chips                            13.52\n",
       "Steak Bowl                               26.07\n",
       "Steak Burrito                            27.75\n",
       "Steak Crispy Tacos                       17.98\n",
       "Steak Salad                               8.99\n",
       "Steak Salad Bowl                         23.78\n",
       "Steak Soft Tacos                         18.50\n",
       "Veggie Bowl                              16.98\n",
       "Veggie Burrito                           33.75\n",
       "Veggie Crispy Tacos                       8.49\n",
       "Veggie Salad                              8.49\n",
       "Veggie Salad Bowl                        11.25\n",
       "Veggie Soft Tacos                        16.98\n",
       "Name: price_new_in_dollars, dtype: float64"
      ]
     },
     "execution_count": 310,
     "metadata": {},
     "output_type": "execute_result"
    }
   ],
   "source": [
    "print(\"максимальная цена:\")\n",
    "df.groupby('item_name')['price_new_in_dollars'].max()"
   ]
  },
  {
   "cell_type": "code",
   "execution_count": 311,
   "metadata": {},
   "outputs": [
    {
     "name": "stdout",
     "output_type": "stream",
     "text": [
      "средняя цена:\n"
     ]
    },
    {
     "data": {
      "text/plain": [
       "item_name\n",
       "6 Pack Soft Drink                         6.610185\n",
       "Barbacoa Bowl                            10.187273\n",
       "Barbacoa Burrito                          9.832418\n",
       "Barbacoa Crispy Tacos                    10.928182\n",
       "Barbacoa Salad Bowl                      10.640000\n",
       "Barbacoa Soft Tacos                      10.018400\n",
       "Bottled Water                             1.867654\n",
       "Bowl                                     14.800000\n",
       "Burrito                                   7.400000\n",
       "Canned Soda                               1.320577\n",
       "Canned Soft Drink                         1.457641\n",
       "Carnitas Bowl                            10.833971\n",
       "Carnitas Burrito                         10.132712\n",
       "Carnitas Crispy Tacos                    11.137143\n",
       "Carnitas Salad                            8.990000\n",
       "Carnitas Salad Bowl                      11.056667\n",
       "Carnitas Soft Tacos                       9.398500\n",
       "Chicken Bowl                             10.113953\n",
       "Chicken Burrito                          10.082857\n",
       "Chicken Crispy Tacos                     10.045319\n",
       "Chicken Salad                             9.010000\n",
       "Chicken Salad Bowl                       11.170455\n",
       "Chicken Soft Tacos                        9.635565\n",
       "Chips                                     2.342844\n",
       "Chips and Fresh Tomato Salsa              3.285091\n",
       "Chips and Guacamole                       4.595073\n",
       "Chips and Mild Fresh Tomato Salsa         3.000000\n",
       "Chips and Roasted Chili Corn Salsa        3.084091\n",
       "Chips and Roasted Chili-Corn Salsa        2.390000\n",
       "Chips and Tomatillo Green Chili Salsa     3.087209\n",
       "Chips and Tomatillo Red Chili Salsa       3.072917\n",
       "Chips and Tomatillo-Green Chili Salsa     2.544194\n",
       "Chips and Tomatillo-Red Chili Salsa       2.987500\n",
       "Crispy Tacos                              7.400000\n",
       "Izze                                      3.390000\n",
       "Nantucket Nectar                          3.641111\n",
       "Salad                                     7.400000\n",
       "Side of Chips                             1.840594\n",
       "Steak Bowl                               10.711801\n",
       "Steak Burrito                            10.465842\n",
       "Steak Crispy Tacos                       10.209714\n",
       "Steak Salad                               8.915000\n",
       "Steak Salad Bowl                         11.847931\n",
       "Steak Soft Tacos                          9.746364\n",
       "Veggie Bowl                              10.211647\n",
       "Veggie Burrito                            9.839684\n",
       "Veggie Crispy Tacos                       8.490000\n",
       "Veggie Salad                              8.490000\n",
       "Veggie Salad Bowl                        10.138889\n",
       "Veggie Soft Tacos                        10.565714\n",
       "Name: price_new_in_dollars, dtype: float64"
      ]
     },
     "execution_count": 311,
     "metadata": {},
     "output_type": "execute_result"
    }
   ],
   "source": [
    "print(\"средняя цена:\")\n",
    "df.groupby('item_name')['price_new_in_dollars'].mean()"
   ]
  },
  {
   "cell_type": "markdown",
   "metadata": {},
   "source": [
    "Удалите старую колонку с ценой."
   ]
  },
  {
   "cell_type": "code",
   "execution_count": 312,
   "metadata": {},
   "outputs": [
    {
     "data": {
      "text/html": [
       "<div>\n",
       "<style scoped>\n",
       "    .dataframe tbody tr th:only-of-type {\n",
       "        vertical-align: middle;\n",
       "    }\n",
       "\n",
       "    .dataframe tbody tr th {\n",
       "        vertical-align: top;\n",
       "    }\n",
       "\n",
       "    .dataframe thead th {\n",
       "        text-align: right;\n",
       "    }\n",
       "</style>\n",
       "<table border=\"1\" class=\"dataframe\">\n",
       "  <thead>\n",
       "    <tr style=\"text-align: right;\">\n",
       "      <th></th>\n",
       "      <th>order_id</th>\n",
       "      <th>quantity</th>\n",
       "      <th>item_name</th>\n",
       "      <th>choice_description</th>\n",
       "      <th>price_new_in_dollars</th>\n",
       "    </tr>\n",
       "  </thead>\n",
       "  <tbody>\n",
       "    <tr>\n",
       "      <th>0</th>\n",
       "      <td>1</td>\n",
       "      <td>1</td>\n",
       "      <td>Chips and Fresh Tomato Salsa</td>\n",
       "      <td></td>\n",
       "      <td>2.39</td>\n",
       "    </tr>\n",
       "    <tr>\n",
       "      <th>1</th>\n",
       "      <td>1</td>\n",
       "      <td>1</td>\n",
       "      <td>Izze</td>\n",
       "      <td>[Clementine]</td>\n",
       "      <td>3.39</td>\n",
       "    </tr>\n",
       "    <tr>\n",
       "      <th>2</th>\n",
       "      <td>1</td>\n",
       "      <td>1</td>\n",
       "      <td>Nantucket Nectar</td>\n",
       "      <td>[Apple]</td>\n",
       "      <td>3.39</td>\n",
       "    </tr>\n",
       "    <tr>\n",
       "      <th>3</th>\n",
       "      <td>1</td>\n",
       "      <td>1</td>\n",
       "      <td>Chips and Tomatillo-Green Chili Salsa</td>\n",
       "      <td></td>\n",
       "      <td>2.39</td>\n",
       "    </tr>\n",
       "    <tr>\n",
       "      <th>4</th>\n",
       "      <td>2</td>\n",
       "      <td>2</td>\n",
       "      <td>Chicken Bowl</td>\n",
       "      <td>[Tomatillo-Red Chili Salsa (Hot), [Black Beans...</td>\n",
       "      <td>16.98</td>\n",
       "    </tr>\n",
       "    <tr>\n",
       "      <th>...</th>\n",
       "      <td>...</td>\n",
       "      <td>...</td>\n",
       "      <td>...</td>\n",
       "      <td>...</td>\n",
       "      <td>...</td>\n",
       "    </tr>\n",
       "    <tr>\n",
       "      <th>4617</th>\n",
       "      <td>1833</td>\n",
       "      <td>1</td>\n",
       "      <td>Steak Burrito</td>\n",
       "      <td>[Fresh Tomato Salsa, [Rice, Black Beans, Sour ...</td>\n",
       "      <td>11.75</td>\n",
       "    </tr>\n",
       "    <tr>\n",
       "      <th>4618</th>\n",
       "      <td>1833</td>\n",
       "      <td>1</td>\n",
       "      <td>Steak Burrito</td>\n",
       "      <td>[Fresh Tomato Salsa, [Rice, Sour Cream, Cheese...</td>\n",
       "      <td>11.75</td>\n",
       "    </tr>\n",
       "    <tr>\n",
       "      <th>4619</th>\n",
       "      <td>1834</td>\n",
       "      <td>1</td>\n",
       "      <td>Chicken Salad Bowl</td>\n",
       "      <td>[Fresh Tomato Salsa, [Fajita Vegetables, Pinto...</td>\n",
       "      <td>11.25</td>\n",
       "    </tr>\n",
       "    <tr>\n",
       "      <th>4620</th>\n",
       "      <td>1834</td>\n",
       "      <td>1</td>\n",
       "      <td>Chicken Salad Bowl</td>\n",
       "      <td>[Fresh Tomato Salsa, [Fajita Vegetables, Lettu...</td>\n",
       "      <td>8.75</td>\n",
       "    </tr>\n",
       "    <tr>\n",
       "      <th>4621</th>\n",
       "      <td>1834</td>\n",
       "      <td>1</td>\n",
       "      <td>Chicken Salad Bowl</td>\n",
       "      <td>[Fresh Tomato Salsa, [Fajita Vegetables, Pinto...</td>\n",
       "      <td>8.75</td>\n",
       "    </tr>\n",
       "  </tbody>\n",
       "</table>\n",
       "<p>4622 rows × 5 columns</p>\n",
       "</div>"
      ],
      "text/plain": [
       "      order_id  quantity                              item_name  \\\n",
       "0            1         1           Chips and Fresh Tomato Salsa   \n",
       "1            1         1                                   Izze   \n",
       "2            1         1                       Nantucket Nectar   \n",
       "3            1         1  Chips and Tomatillo-Green Chili Salsa   \n",
       "4            2         2                           Chicken Bowl   \n",
       "...        ...       ...                                    ...   \n",
       "4617      1833         1                          Steak Burrito   \n",
       "4618      1833         1                          Steak Burrito   \n",
       "4619      1834         1                     Chicken Salad Bowl   \n",
       "4620      1834         1                     Chicken Salad Bowl   \n",
       "4621      1834         1                     Chicken Salad Bowl   \n",
       "\n",
       "                                     choice_description  price_new_in_dollars  \n",
       "0                                                                        2.39  \n",
       "1                                          [Clementine]                  3.39  \n",
       "2                                               [Apple]                  3.39  \n",
       "3                                                                        2.39  \n",
       "4     [Tomatillo-Red Chili Salsa (Hot), [Black Beans...                 16.98  \n",
       "...                                                 ...                   ...  \n",
       "4617  [Fresh Tomato Salsa, [Rice, Black Beans, Sour ...                 11.75  \n",
       "4618  [Fresh Tomato Salsa, [Rice, Sour Cream, Cheese...                 11.75  \n",
       "4619  [Fresh Tomato Salsa, [Fajita Vegetables, Pinto...                 11.25  \n",
       "4620  [Fresh Tomato Salsa, [Fajita Vegetables, Lettu...                  8.75  \n",
       "4621  [Fresh Tomato Salsa, [Fajita Vegetables, Pinto...                  8.75  \n",
       "\n",
       "[4622 rows x 5 columns]"
      ]
     },
     "execution_count": 312,
     "metadata": {},
     "output_type": "execute_result"
    }
   ],
   "source": [
    "del df['item_price']\n",
    "df"
   ]
  },
  {
   "cell_type": "markdown",
   "metadata": {},
   "source": [
    "#### 5. [0.25 баллов] Какие 5 товаров были самыми дешёвыми и самыми дорогими? (по item_name)"
   ]
  },
  {
   "cell_type": "markdown",
   "metadata": {},
   "source": [
    "Для этого будет удобно избавиться от дубликатов и отсортировать товары. Не забудьте про количество товара."
   ]
  },
  {
   "cell_type": "code",
   "execution_count": 313,
   "metadata": {},
   "outputs": [
    {
     "name": "stdout",
     "output_type": "stream",
     "text": [
      "5 самых дешёвых товаров: \n",
      "Canned Soda; Bottled Water; Canned Soft Drink; Side of Chips; Chips\n"
     ]
    }
   ],
   "source": [
    "print(\"5 самых дешёвых товаров: \")\n",
    "print(*df[df[\"quantity\"] == 1].sort_values(by = \"price_new_in_dollars\").drop_duplicates(\"item_name\").head(5)[\"item_name\"], \n",
    "      sep = \"; \")"
   ]
  },
  {
   "cell_type": "code",
   "execution_count": 314,
   "metadata": {},
   "outputs": [
    {
     "name": "stdout",
     "output_type": "stream",
     "text": [
      "5 самых дорогих товаров: \n",
      "Steak Salad Bowl; Barbacoa Salad Bowl; Carnitas Salad Bowl; Steak Burrito; Barbacoa Burrito\n"
     ]
    }
   ],
   "source": [
    "print(\"5 самых дорогих товаров: \")\n",
    "print(*df[df[\"quantity\"] == 1].sort_values(by = \"price_new_in_dollars\", ascending = False).drop_duplicates(\"item_name\").head(5)[\"item_name\"], \n",
    "      sep = \"; \")"
   ]
  },
  {
   "cell_type": "markdown",
   "metadata": {},
   "source": [
    "#### 6. [0.5 баллов] Сколько раз клиенты покупали больше 1 Chicken Bowl (item_name)?"
   ]
  },
  {
   "cell_type": "code",
   "execution_count": 315,
   "metadata": {},
   "outputs": [
    {
     "name": "stdout",
     "output_type": "stream",
     "text": [
      "33 раз(-а)\n"
     ]
    }
   ],
   "source": [
    "print(len(df[(df['item_name'] == 'Chicken Bowl') & (df['quantity'] > 1)]), \"раз(-а)\")"
   ]
  },
  {
   "cell_type": "markdown",
   "metadata": {},
   "source": [
    "#### 7. [0.5 баллов] Какой средний чек у заказа? Сколько в среднем товаров покупают?"
   ]
  },
  {
   "cell_type": "markdown",
   "metadata": {},
   "source": [
    "Если необходимо провести вычисления в терминах заказов, то будет удобно сгруппировать строки по заказам и посчитать необходимые статистики."
   ]
  },
  {
   "cell_type": "code",
   "execution_count": 316,
   "metadata": {},
   "outputs": [
    {
     "name": "stdout",
     "output_type": "stream",
     "text": [
      "средний чек заказа:  18.81142857142869\n",
      "среднее количество товаров:  2.711014176663032\n"
     ]
    }
   ],
   "source": [
    "print(\"средний чек заказа: \", df.groupby(\"order_id\")[\"price_new_in_dollars\"].sum().mean())\n",
    "print(\"среднее количество товаров: \", df.groupby(\"order_id\")[\"quantity\"].sum().mean())"
   ]
  },
  {
   "cell_type": "markdown",
   "metadata": {},
   "source": [
    "#### 8. [0.25 баллов] Сколько заказов содержали ровно 1 товар?"
   ]
  },
  {
   "cell_type": "code",
   "execution_count": 317,
   "metadata": {},
   "outputs": [
    {
     "name": "stdout",
     "output_type": "stream",
     "text": [
      "56 заказ(-ов)\n"
     ]
    }
   ],
   "source": [
    "print(len(df.groupby(\"order_id\").size()[df.groupby(\"order_id\")[\"quantity\"].sum() == 1]), \"заказ(-ов)\")"
   ]
  },
  {
   "cell_type": "markdown",
   "metadata": {},
   "source": [
    "#### 9. [0.25 баллов] Какая самая популярная категория товара?"
   ]
  },
  {
   "cell_type": "code",
   "execution_count": 318,
   "metadata": {},
   "outputs": [
    {
     "name": "stdout",
     "output_type": "stream",
     "text": [
      "самая популярная категория товара: Chicken Bowl\n"
     ]
    }
   ],
   "source": [
    "print('самая популярная категория товара:', \n",
    "      df.groupby('item_name')['quantity'].sum().sort_values(ascending=False).index[0])"
   ]
  },
  {
   "cell_type": "markdown",
   "metadata": {},
   "source": [
    "#### 10. [0.5 баллов] Какие виды Burrito существуют? Какой из них чаще всего покупают? Какой из них самый дорогой?"
   ]
  },
  {
   "cell_type": "code",
   "execution_count": 319,
   "metadata": {},
   "outputs": [
    {
     "data": {
      "text/html": [
       "<div>\n",
       "<style scoped>\n",
       "    .dataframe tbody tr th:only-of-type {\n",
       "        vertical-align: middle;\n",
       "    }\n",
       "\n",
       "    .dataframe tbody tr th {\n",
       "        vertical-align: top;\n",
       "    }\n",
       "\n",
       "    .dataframe thead th {\n",
       "        text-align: right;\n",
       "    }\n",
       "</style>\n",
       "<table border=\"1\" class=\"dataframe\">\n",
       "  <thead>\n",
       "    <tr style=\"text-align: right;\">\n",
       "      <th></th>\n",
       "      <th>order_id</th>\n",
       "      <th>quantity</th>\n",
       "      <th>item_name</th>\n",
       "      <th>choice_description</th>\n",
       "      <th>price_new_in_dollars</th>\n",
       "    </tr>\n",
       "  </thead>\n",
       "  <tbody>\n",
       "    <tr>\n",
       "      <th>7</th>\n",
       "      <td>4</td>\n",
       "      <td>1</td>\n",
       "      <td>Steak Burrito</td>\n",
       "      <td>[Tomatillo Red Chili Salsa, [Fajita Vegetables...</td>\n",
       "      <td>11.75</td>\n",
       "    </tr>\n",
       "    <tr>\n",
       "      <th>9</th>\n",
       "      <td>5</td>\n",
       "      <td>1</td>\n",
       "      <td>Steak Burrito</td>\n",
       "      <td>[Fresh Tomato Salsa, [Rice, Black Beans, Pinto...</td>\n",
       "      <td>9.25</td>\n",
       "    </tr>\n",
       "    <tr>\n",
       "      <th>16</th>\n",
       "      <td>8</td>\n",
       "      <td>1</td>\n",
       "      <td>Chicken Burrito</td>\n",
       "      <td>[Tomatillo-Green Chili Salsa (Medium), [Pinto ...</td>\n",
       "      <td>8.49</td>\n",
       "    </tr>\n",
       "    <tr>\n",
       "      <th>17</th>\n",
       "      <td>9</td>\n",
       "      <td>1</td>\n",
       "      <td>Chicken Burrito</td>\n",
       "      <td>[Fresh Tomato Salsa (Mild), [Black Beans, Rice...</td>\n",
       "      <td>8.49</td>\n",
       "    </tr>\n",
       "    <tr>\n",
       "      <th>21</th>\n",
       "      <td>11</td>\n",
       "      <td>1</td>\n",
       "      <td>Barbacoa Burrito</td>\n",
       "      <td>[[Fresh Tomato Salsa (Mild), Tomatillo-Green C...</td>\n",
       "      <td>8.99</td>\n",
       "    </tr>\n",
       "    <tr>\n",
       "      <th>...</th>\n",
       "      <td>...</td>\n",
       "      <td>...</td>\n",
       "      <td>...</td>\n",
       "      <td>...</td>\n",
       "      <td>...</td>\n",
       "    </tr>\n",
       "    <tr>\n",
       "      <th>4608</th>\n",
       "      <td>1829</td>\n",
       "      <td>1</td>\n",
       "      <td>Veggie Burrito</td>\n",
       "      <td>[Tomatillo Red Chili Salsa, [Fajita Vegetables...</td>\n",
       "      <td>11.25</td>\n",
       "    </tr>\n",
       "    <tr>\n",
       "      <th>4610</th>\n",
       "      <td>1830</td>\n",
       "      <td>1</td>\n",
       "      <td>Steak Burrito</td>\n",
       "      <td>[Fresh Tomato Salsa, [Rice, Sour Cream, Cheese...</td>\n",
       "      <td>11.75</td>\n",
       "    </tr>\n",
       "    <tr>\n",
       "      <th>4611</th>\n",
       "      <td>1830</td>\n",
       "      <td>1</td>\n",
       "      <td>Veggie Burrito</td>\n",
       "      <td>[Tomatillo Green Chili Salsa, [Rice, Fajita Ve...</td>\n",
       "      <td>11.25</td>\n",
       "    </tr>\n",
       "    <tr>\n",
       "      <th>4617</th>\n",
       "      <td>1833</td>\n",
       "      <td>1</td>\n",
       "      <td>Steak Burrito</td>\n",
       "      <td>[Fresh Tomato Salsa, [Rice, Black Beans, Sour ...</td>\n",
       "      <td>11.75</td>\n",
       "    </tr>\n",
       "    <tr>\n",
       "      <th>4618</th>\n",
       "      <td>1833</td>\n",
       "      <td>1</td>\n",
       "      <td>Steak Burrito</td>\n",
       "      <td>[Fresh Tomato Salsa, [Rice, Sour Cream, Cheese...</td>\n",
       "      <td>11.75</td>\n",
       "    </tr>\n",
       "  </tbody>\n",
       "</table>\n",
       "<p>1172 rows × 5 columns</p>\n",
       "</div>"
      ],
      "text/plain": [
       "      order_id  quantity         item_name  \\\n",
       "7            4         1     Steak Burrito   \n",
       "9            5         1     Steak Burrito   \n",
       "16           8         1   Chicken Burrito   \n",
       "17           9         1   Chicken Burrito   \n",
       "21          11         1  Barbacoa Burrito   \n",
       "...        ...       ...               ...   \n",
       "4608      1829         1    Veggie Burrito   \n",
       "4610      1830         1     Steak Burrito   \n",
       "4611      1830         1    Veggie Burrito   \n",
       "4617      1833         1     Steak Burrito   \n",
       "4618      1833         1     Steak Burrito   \n",
       "\n",
       "                                     choice_description  price_new_in_dollars  \n",
       "7     [Tomatillo Red Chili Salsa, [Fajita Vegetables...                 11.75  \n",
       "9     [Fresh Tomato Salsa, [Rice, Black Beans, Pinto...                  9.25  \n",
       "16    [Tomatillo-Green Chili Salsa (Medium), [Pinto ...                  8.49  \n",
       "17    [Fresh Tomato Salsa (Mild), [Black Beans, Rice...                  8.49  \n",
       "21    [[Fresh Tomato Salsa (Mild), Tomatillo-Green C...                  8.99  \n",
       "...                                                 ...                   ...  \n",
       "4608  [Tomatillo Red Chili Salsa, [Fajita Vegetables...                 11.25  \n",
       "4610  [Fresh Tomato Salsa, [Rice, Sour Cream, Cheese...                 11.75  \n",
       "4611  [Tomatillo Green Chili Salsa, [Rice, Fajita Ve...                 11.25  \n",
       "4617  [Fresh Tomato Salsa, [Rice, Black Beans, Sour ...                 11.75  \n",
       "4618  [Fresh Tomato Salsa, [Rice, Sour Cream, Cheese...                 11.75  \n",
       "\n",
       "[1172 rows x 5 columns]"
      ]
     },
     "execution_count": 319,
     "metadata": {},
     "output_type": "execute_result"
    }
   ],
   "source": [
    "df_Burrito = df[df['item_name'].str.contains('Burrito')]\n",
    "df_Burrito"
   ]
  },
  {
   "cell_type": "code",
   "execution_count": 320,
   "metadata": {},
   "outputs": [
    {
     "name": "stdout",
     "output_type": "stream",
     "text": [
      "виды: Steak Burrito, Chicken Burrito, Barbacoa Burrito, Carnitas Burrito, Veggie Burrito, Burrito\n",
      "чаще всего покупают: Chicken Burrito\n",
      "самый дорогой:  Steak Salad Bowl\n"
     ]
    }
   ],
   "source": [
    "print('виды:', ', '.join(list(df_Burrito['item_name'].unique())))\n",
    "print('чаще всего покупают:', \n",
    "      df_Burrito.groupby('item_name')['quantity'].count().sort_values(ascending=False).index[0])\n",
    "print(\"самый дорогой: \", \n",
    "      *df[df[\"quantity\"] == 1].sort_values(by = \"price_new_in_dollars\", \n",
    "                                                   ascending = False).drop_duplicates(\"item_name\")[\"item_name\"].head(1))"
   ]
  },
  {
   "cell_type": "markdown",
   "metadata": {},
   "source": [
    "#### 11. [0.75 баллов] В каком количестве заказов есть товар, который стоит более 40% от суммы всего чека?"
   ]
  },
  {
   "cell_type": "markdown",
   "metadata": {},
   "source": [
    "Возможно, будет удобно посчитать отдельно среднюю стоимость заказа, добавить ее в исходные данные и сделать необходимые проверки.\n",
    "\n",
    "Данный комментарий стоит воспринимать как подсказку к одному из вариантов решений задания. Если в вашем варианте решения он не нужнен, это не страшно"
   ]
  },
  {
   "cell_type": "code",
   "execution_count": 321,
   "metadata": {},
   "outputs": [
    {
     "name": "stdout",
     "output_type": "stream",
     "text": [
      "1624 заказа\n"
     ]
    }
   ],
   "source": [
    "x = df.groupby(\"order_id\")[\"price_new_in_dollars\"]\n",
    "print(len(df.groupby(\"order_id\").size()[x.max() / x.sum() > 0.4]), \"заказа\")"
   ]
  },
  {
   "cell_type": "markdown",
   "metadata": {},
   "source": [
    "#### 12. [0.75 баллов] Предположим, что в данных была ошибка и Diet Coke (choice_description), который стоил $1.25, должен был стоить 1.35. Скорректируйте данные в таблицы и посчитайте, на какой процент больше денег было заработано с этого товара. Не забывайте, что количество товара не всегда равно 1."
   ]
  },
  {
   "cell_type": "code",
   "execution_count": 324,
   "metadata": {},
   "outputs": [
    {
     "name": "stdout",
     "output_type": "stream",
     "text": [
      "было бы заработано больше на:  7.999999999999985 %\n"
     ]
    }
   ],
   "source": [
    "data2 = df[(df[\"choice_description\"].str.contains(\"Diet Coke\")) & (df[\"item_name\"] == \"Canned Soft Drink\")]\n",
    "s1 = data2[\"price_new_in_dollars\"].sum()\n",
    "data2.loc[:,\"price_new_in_dollars\"] *= (1.35/1.25)\n",
    "s2 = data2[\"price_new_in_dollars\"].sum()\n",
    "print(\"было бы заработано больше на: \", (s2/s1 - 1) * 100, \"%\")"
   ]
  },
  {
   "cell_type": "markdown",
   "metadata": {},
   "source": [
    "#### 13. [0.75 баллов] Создайте новый DateFrame из матрицы, созданной ниже. Назовите колонки index, column1, column2 и сделайте первую колонку индексом."
   ]
  },
  {
   "cell_type": "code",
   "execution_count": 325,
   "metadata": {},
   "outputs": [
    {
     "data": {
      "text/html": [
       "<div>\n",
       "<style scoped>\n",
       "    .dataframe tbody tr th:only-of-type {\n",
       "        vertical-align: middle;\n",
       "    }\n",
       "\n",
       "    .dataframe tbody tr th {\n",
       "        vertical-align: top;\n",
       "    }\n",
       "\n",
       "    .dataframe thead th {\n",
       "        text-align: right;\n",
       "    }\n",
       "</style>\n",
       "<table border=\"1\" class=\"dataframe\">\n",
       "  <thead>\n",
       "    <tr style=\"text-align: right;\">\n",
       "      <th></th>\n",
       "      <th>index</th>\n",
       "      <th>column1</th>\n",
       "      <th>column2</th>\n",
       "    </tr>\n",
       "  </thead>\n",
       "  <tbody>\n",
       "    <tr>\n",
       "      <th>0</th>\n",
       "      <td>0.114726</td>\n",
       "      <td>0.720658</td>\n",
       "      <td>0.904269</td>\n",
       "    </tr>\n",
       "    <tr>\n",
       "      <th>1</th>\n",
       "      <td>0.453934</td>\n",
       "      <td>0.493474</td>\n",
       "      <td>0.228746</td>\n",
       "    </tr>\n",
       "    <tr>\n",
       "      <th>2</th>\n",
       "      <td>0.347313</td>\n",
       "      <td>0.633652</td>\n",
       "      <td>0.703001</td>\n",
       "    </tr>\n",
       "    <tr>\n",
       "      <th>3</th>\n",
       "      <td>0.734987</td>\n",
       "      <td>0.237113</td>\n",
       "      <td>0.847798</td>\n",
       "    </tr>\n",
       "    <tr>\n",
       "      <th>4</th>\n",
       "      <td>0.964358</td>\n",
       "      <td>0.108223</td>\n",
       "      <td>0.694334</td>\n",
       "    </tr>\n",
       "    <tr>\n",
       "      <th>5</th>\n",
       "      <td>0.362161</td>\n",
       "      <td>0.558098</td>\n",
       "      <td>0.741112</td>\n",
       "    </tr>\n",
       "    <tr>\n",
       "      <th>6</th>\n",
       "      <td>0.084587</td>\n",
       "      <td>0.354714</td>\n",
       "      <td>0.327465</td>\n",
       "    </tr>\n",
       "    <tr>\n",
       "      <th>7</th>\n",
       "      <td>0.795137</td>\n",
       "      <td>0.156986</td>\n",
       "      <td>0.112499</td>\n",
       "    </tr>\n",
       "    <tr>\n",
       "      <th>8</th>\n",
       "      <td>0.503236</td>\n",
       "      <td>0.030326</td>\n",
       "      <td>0.791655</td>\n",
       "    </tr>\n",
       "    <tr>\n",
       "      <th>9</th>\n",
       "      <td>0.127377</td>\n",
       "      <td>0.052553</td>\n",
       "      <td>0.738851</td>\n",
       "    </tr>\n",
       "  </tbody>\n",
       "</table>\n",
       "</div>"
      ],
      "text/plain": [
       "      index   column1   column2\n",
       "0  0.114726  0.720658  0.904269\n",
       "1  0.453934  0.493474  0.228746\n",
       "2  0.347313  0.633652  0.703001\n",
       "3  0.734987  0.237113  0.847798\n",
       "4  0.964358  0.108223  0.694334\n",
       "5  0.362161  0.558098  0.741112\n",
       "6  0.084587  0.354714  0.327465\n",
       "7  0.795137  0.156986  0.112499\n",
       "8  0.503236  0.030326  0.791655\n",
       "9  0.127377  0.052553  0.738851"
      ]
     },
     "execution_count": 325,
     "metadata": {},
     "output_type": "execute_result"
    }
   ],
   "source": [
    "data_matrix = pd.DataFrame(np.random.rand(10,3))\n",
    "data_matrix = data_matrix.rename({0: \"index\", 1: \"column1\", 2: \"column2\"}, axis = 'columns')\n",
    "data_matrix"
   ]
  },
  {
   "cell_type": "markdown",
   "metadata": {},
   "source": [
    "Сохраните DataFrame на диск в формате csv без индексов и названий столбцов."
   ]
  },
  {
   "cell_type": "code",
   "execution_count": 326,
   "metadata": {},
   "outputs": [],
   "source": [
    "data_matrix.to_csv('data_matrix.csv', index=False, header=False)"
   ]
  },
  {
   "cell_type": "markdown",
   "metadata": {},
   "source": [
    "# Визуализации и matplotlib"
   ]
  },
  {
   "cell_type": "markdown",
   "metadata": {},
   "source": [
    "При работе с данными часто неудобно делать какие-то выводы, если смотреть на таблицу и числа в частности, поэтому важно уметь визуализировать данные. В этом разделе мы этим и займёмся.\n",
    "\n",
    "У matplotlib, конечно, же есть [документация](https://matplotlib.org/stable/users/index.html) с большим количеством [примеров](https://matplotlib.org/2.0.2/examples/index.html), но для начала достаточно знать про несколько основных типов графиков:\n",
    "\n",
    "    1.plot — обычный поточечный график, которым можно изображать кривые или отдельные точки;\n",
    "    2.hist — гистограмма, показывающая распределение некоторое величины;\n",
    "    3.scatter — график, показывающий взаимосвязь двух величин;\n",
    "    4.bar — столбцовый график, показывающий взаимосвязь количественной величины от категориальной.\n",
    "\n",
    "В этом задании вы попробуете построить каждый из них. Не менее важно усвоить базовые принципы визуализаций:\n",
    "\n",
    "    1.на графиках должны быть подписаны оси;\n",
    "    2.у визуализации должно быть название;\n",
    "    3.если изображено несколько графиков, то необходима поясняющая легенда;\n",
    "    4.все линии на графиках должны быть чётко видны (нет похожих цветов или цветов, сливающихся с фоном);\n",
    "    5.если отображена величина, имеющая очевидный диапазон значений (например, проценты могут быть от 0 до 100), то желательно масштабировать ось на весь диапазон значений (исключением является случай, когда вам необходимо показать малое отличие,которое незаметно в таких масштабах).\n",
    "    7.сетка на графике помогает оценить значения в точках на глаз, это обычно полезно, поэтому лучше ее отрисовывать."
   ]
  },
  {
   "cell_type": "code",
   "execution_count": 327,
   "metadata": {},
   "outputs": [],
   "source": [
    "%matplotlib inline  \n",
    "# нужно для отображения графиков внутри ноутбука\n",
    "import matplotlib.pyplot as plt"
   ]
  },
  {
   "cell_type": "markdown",
   "metadata": {},
   "source": [
    "На самом деле мы уже импортировали matplotlib внутри %pylab inline в начале задания.\n",
    "\n",
    "Работать мы будем с той же выборкой покупкок. Добавим новую колонку с датой покупки."
   ]
  },
  {
   "cell_type": "code",
   "execution_count": 328,
   "metadata": {},
   "outputs": [
    {
     "data": {
      "text/html": [
       "<div>\n",
       "<style scoped>\n",
       "    .dataframe tbody tr th:only-of-type {\n",
       "        vertical-align: middle;\n",
       "    }\n",
       "\n",
       "    .dataframe tbody tr th {\n",
       "        vertical-align: top;\n",
       "    }\n",
       "\n",
       "    .dataframe thead th {\n",
       "        text-align: right;\n",
       "    }\n",
       "</style>\n",
       "<table border=\"1\" class=\"dataframe\">\n",
       "  <thead>\n",
       "    <tr style=\"text-align: right;\">\n",
       "      <th></th>\n",
       "      <th>order_id</th>\n",
       "      <th>quantity</th>\n",
       "      <th>item_name</th>\n",
       "      <th>choice_description</th>\n",
       "      <th>price_new_in_dollars</th>\n",
       "      <th>date</th>\n",
       "    </tr>\n",
       "  </thead>\n",
       "  <tbody>\n",
       "    <tr>\n",
       "      <th>0</th>\n",
       "      <td>1</td>\n",
       "      <td>1</td>\n",
       "      <td>Chips and Fresh Tomato Salsa</td>\n",
       "      <td></td>\n",
       "      <td>2.39</td>\n",
       "      <td>2018-01-24</td>\n",
       "    </tr>\n",
       "    <tr>\n",
       "      <th>1</th>\n",
       "      <td>1</td>\n",
       "      <td>1</td>\n",
       "      <td>Izze</td>\n",
       "      <td>[Clementine]</td>\n",
       "      <td>3.39</td>\n",
       "      <td>2018-01-24</td>\n",
       "    </tr>\n",
       "    <tr>\n",
       "      <th>2</th>\n",
       "      <td>1</td>\n",
       "      <td>1</td>\n",
       "      <td>Nantucket Nectar</td>\n",
       "      <td>[Apple]</td>\n",
       "      <td>3.39</td>\n",
       "      <td>2018-01-24</td>\n",
       "    </tr>\n",
       "    <tr>\n",
       "      <th>3</th>\n",
       "      <td>1</td>\n",
       "      <td>1</td>\n",
       "      <td>Chips and Tomatillo-Green Chili Salsa</td>\n",
       "      <td></td>\n",
       "      <td>2.39</td>\n",
       "      <td>2018-01-24</td>\n",
       "    </tr>\n",
       "    <tr>\n",
       "      <th>4</th>\n",
       "      <td>2</td>\n",
       "      <td>2</td>\n",
       "      <td>Chicken Bowl</td>\n",
       "      <td>[Tomatillo-Red Chili Salsa (Hot), [Black Beans...</td>\n",
       "      <td>16.98</td>\n",
       "      <td>2018-01-05</td>\n",
       "    </tr>\n",
       "    <tr>\n",
       "      <th>...</th>\n",
       "      <td>...</td>\n",
       "      <td>...</td>\n",
       "      <td>...</td>\n",
       "      <td>...</td>\n",
       "      <td>...</td>\n",
       "      <td>...</td>\n",
       "    </tr>\n",
       "    <tr>\n",
       "      <th>4617</th>\n",
       "      <td>1833</td>\n",
       "      <td>1</td>\n",
       "      <td>Steak Burrito</td>\n",
       "      <td>[Fresh Tomato Salsa, [Rice, Black Beans, Sour ...</td>\n",
       "      <td>11.75</td>\n",
       "      <td>2018-01-29</td>\n",
       "    </tr>\n",
       "    <tr>\n",
       "      <th>4618</th>\n",
       "      <td>1833</td>\n",
       "      <td>1</td>\n",
       "      <td>Steak Burrito</td>\n",
       "      <td>[Fresh Tomato Salsa, [Rice, Sour Cream, Cheese...</td>\n",
       "      <td>11.75</td>\n",
       "      <td>2018-01-29</td>\n",
       "    </tr>\n",
       "    <tr>\n",
       "      <th>4619</th>\n",
       "      <td>1834</td>\n",
       "      <td>1</td>\n",
       "      <td>Chicken Salad Bowl</td>\n",
       "      <td>[Fresh Tomato Salsa, [Fajita Vegetables, Pinto...</td>\n",
       "      <td>11.25</td>\n",
       "      <td>2018-01-23</td>\n",
       "    </tr>\n",
       "    <tr>\n",
       "      <th>4620</th>\n",
       "      <td>1834</td>\n",
       "      <td>1</td>\n",
       "      <td>Chicken Salad Bowl</td>\n",
       "      <td>[Fresh Tomato Salsa, [Fajita Vegetables, Lettu...</td>\n",
       "      <td>8.75</td>\n",
       "      <td>2018-01-23</td>\n",
       "    </tr>\n",
       "    <tr>\n",
       "      <th>4621</th>\n",
       "      <td>1834</td>\n",
       "      <td>1</td>\n",
       "      <td>Chicken Salad Bowl</td>\n",
       "      <td>[Fresh Tomato Salsa, [Fajita Vegetables, Pinto...</td>\n",
       "      <td>8.75</td>\n",
       "      <td>2018-01-23</td>\n",
       "    </tr>\n",
       "  </tbody>\n",
       "</table>\n",
       "<p>4622 rows × 6 columns</p>\n",
       "</div>"
      ],
      "text/plain": [
       "      order_id  quantity                              item_name  \\\n",
       "0            1         1           Chips and Fresh Tomato Salsa   \n",
       "1            1         1                                   Izze   \n",
       "2            1         1                       Nantucket Nectar   \n",
       "3            1         1  Chips and Tomatillo-Green Chili Salsa   \n",
       "4            2         2                           Chicken Bowl   \n",
       "...        ...       ...                                    ...   \n",
       "4617      1833         1                          Steak Burrito   \n",
       "4618      1833         1                          Steak Burrito   \n",
       "4619      1834         1                     Chicken Salad Bowl   \n",
       "4620      1834         1                     Chicken Salad Bowl   \n",
       "4621      1834         1                     Chicken Salad Bowl   \n",
       "\n",
       "                                     choice_description  price_new_in_dollars  \\\n",
       "0                                                                        2.39   \n",
       "1                                          [Clementine]                  3.39   \n",
       "2                                               [Apple]                  3.39   \n",
       "3                                                                        2.39   \n",
       "4     [Tomatillo-Red Chili Salsa (Hot), [Black Beans...                 16.98   \n",
       "...                                                 ...                   ...   \n",
       "4617  [Fresh Tomato Salsa, [Rice, Black Beans, Sour ...                 11.75   \n",
       "4618  [Fresh Tomato Salsa, [Rice, Sour Cream, Cheese...                 11.75   \n",
       "4619  [Fresh Tomato Salsa, [Fajita Vegetables, Pinto...                 11.25   \n",
       "4620  [Fresh Tomato Salsa, [Fajita Vegetables, Lettu...                  8.75   \n",
       "4621  [Fresh Tomato Salsa, [Fajita Vegetables, Pinto...                  8.75   \n",
       "\n",
       "            date  \n",
       "0     2018-01-24  \n",
       "1     2018-01-24  \n",
       "2     2018-01-24  \n",
       "3     2018-01-24  \n",
       "4     2018-01-05  \n",
       "...          ...  \n",
       "4617  2018-01-29  \n",
       "4618  2018-01-29  \n",
       "4619  2018-01-23  \n",
       "4620  2018-01-23  \n",
       "4621  2018-01-23  \n",
       "\n",
       "[4622 rows x 6 columns]"
      ]
     },
     "execution_count": 328,
     "metadata": {},
     "output_type": "execute_result"
    }
   ],
   "source": [
    "import datetime\n",
    "\n",
    "start = datetime.datetime(2018, 1, 1)\n",
    "end = datetime.datetime(2018, 1, 31)\n",
    "delta_seconds = int((end - start).total_seconds())\n",
    "\n",
    "dates = pd.DataFrame(index=df.order_id.unique())\n",
    "dates['date'] = [\n",
    "    (start + datetime.timedelta(seconds=random.randint(0, delta_seconds))).strftime('%Y-%m-%d')\n",
    "    for _ in range(df.order_id.nunique())]\n",
    "\n",
    "df['date'] = df.order_id.map(dates['date'])\n",
    "df"
   ]
  },
  {
   "cell_type": "markdown",
   "metadata": {},
   "source": [
    "#### 1. [1 балл] Постройте гистограмму распределения сумм покупок и гистограмму средних цен отдельных видов продуктов item_name."
   ]
  },
  {
   "cell_type": "markdown",
   "metadata": {},
   "source": [
    "Изображайте на двух соседних графиках. Для этого может быть полезен subplot."
   ]
  },
  {
   "cell_type": "code",
   "execution_count": 329,
   "metadata": {},
   "outputs": [
    {
     "data": {
      "text/plain": [
       "Text(0.5, 1.0, 'распределение средних цен товаров')"
      ]
     },
     "execution_count": 329,
     "metadata": {},
     "output_type": "execute_result"
    },
    {
     "data": {
      "image/png": "[encoded data removed]",
      "text/plain": [
       "<Figure size 936x504 with 2 Axes>"
      ]
     },
     "metadata": {
      "needs_background": "light"
     },
     "output_type": "display_data"
    }
   ],
   "source": [
    "fig, ax = plt.subplots(1, 2, figsize = (13, 7))\n",
    "ax[0].hist(df.groupby('order_id')['price_new_in_dollars'].sum())\n",
    "ax[0].set_xlabel(\"сумма\")\n",
    "ax[0].set_ylabel(\"количество\")\n",
    "ax[0].set_title(\"распределение сумм покупок\")\n",
    "ax[1].hist(df.groupby('item_name')['price_new_in_dollars'].mean())\n",
    "ax[1].set_xlabel(\"средняя цена\")\n",
    "ax[1].set_ylabel(\"количество\")\n",
    "ax[1].set_title(\"распределение средних цен товаров\")"
   ]
  },
  {
   "cell_type": "markdown",
   "metadata": {},
   "source": [
    "#### 2. [1 балл] Постройте график зависимости суммы покупок от дней."
   ]
  },
  {
   "cell_type": "code",
   "execution_count": 330,
   "metadata": {},
   "outputs": [
    {
     "data": {
      "image/png": "[encoded data removed]",
      "text/plain": [
       "<Figure size 936x504 with 1 Axes>"
      ]
     },
     "metadata": {
      "needs_background": "light"
     },
     "output_type": "display_data"
    }
   ],
   "source": [
    "fig, ax = plt.subplots(figsize=(13,7))\n",
    "df = df.groupby('date')\n",
    "ax.plot(df['price_new_in_dollars'].sum(), marker = '*')\n",
    "ax.set_xticks(np.arange(len(df)))\n",
    "ax.set_xticklabels(df.size().keys(), rotation = 'vertical')\n",
    "ax.set_xlabel(\"дата\")\n",
    "ax.set_ylabel(\"сумма\")\n",
    "ax.set_title(\"зависимость суммы покупок от времени\")\n",
    "ax.grid()"
   ]
  },
  {
   "cell_type": "markdown",
   "metadata": {},
   "source": [
    "Еще одна билиотека для визуализации: [seaborn](https://jakevdp.github.io/PythonDataScienceHandbook/04.14-visualization-with-seaborn.html). Это настройка над matplotlib, иногда удобнее и красивее делать визуализации через неё."
   ]
  },
  {
   "cell_type": "code",
   "execution_count": null,
   "metadata": {},
   "outputs": [],
   "source": []
  }
 ],
 "metadata": {
  "kernelspec": {
   "display_name": "Python 3",
   "language": "python",
   "name": "python3"
  },
  "language_info": {
   "codemirror_mode": {
    "name": "ipython",
    "version": 3
   },
   "file_extension": ".py",
   "mimetype": "text/x-python",
   "name": "python",
   "nbconvert_exporter": "python",
   "pygments_lexer": "ipython3",
   "version": "3.8.5"
  }
 },
 "nbformat": 4,
 "nbformat_minor": 4
}
